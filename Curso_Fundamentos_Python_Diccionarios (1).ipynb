{
 "cells": [
  {
   "cell_type": "markdown",
   "id": "337f1a1c",
   "metadata": {},
   "source": [
    "# CURSO DE FUNDAMENTOS DE PYTHON\n",
    "## EJERCICIOS DE DICCIONARIOS"
   ]
  },
  {
   "cell_type": "markdown",
   "id": "0bc8a1f7",
   "metadata": {},
   "source": [
    "### Ejercicio Básico 1\n",
    "Crear un diccionario vacío"
   ]
  },
  {
   "cell_type": "code",
   "execution_count": 9,
   "id": "43df951b",
   "metadata": {},
   "outputs": [
    {
     "data": {
      "text/plain": [
       "{}"
      ]
     },
     "execution_count": 9,
     "metadata": {},
     "output_type": "execute_result"
    }
   ],
   "source": [
    "# Escribe tu solución aquí\n",
    "diccionario = {}\n",
    "diccionario"
   ]
  },
  {
   "cell_type": "markdown",
   "id": "2a28ae62",
   "metadata": {},
   "source": [
    "### Ejercicio Básico 2\n",
    "Agregar elementos a un diccionario"
   ]
  },
  {
   "cell_type": "code",
   "execution_count": 10,
   "id": "a02b119d",
   "metadata": {},
   "outputs": [
    {
     "data": {
      "text/plain": [
       "{'num1': 12, 'num2': 15}"
      ]
     },
     "execution_count": 10,
     "metadata": {},
     "output_type": "execute_result"
    }
   ],
   "source": [
    "# Escribe tu solución aquí\n",
    "diccionario = {'num1': 12, 'num2': 15}\n",
    "diccionario"
   ]
  },
  {
   "cell_type": "markdown",
   "id": "d6d8a38b",
   "metadata": {},
   "source": [
    "### Ejercicio Básico 3\n",
    "Acceder a un valor en un diccionario"
   ]
  },
  {
   "cell_type": "code",
   "execution_count": 11,
   "id": "693d1c07",
   "metadata": {},
   "outputs": [
    {
     "name": "stdout",
     "output_type": "stream",
     "text": [
      "12\n"
     ]
    }
   ],
   "source": [
    "# Escribe tu solución aquí\n",
    "print(diccionario['num1'])\n"
   ]
  },
  {
   "cell_type": "markdown",
   "id": "67c95a2a",
   "metadata": {},
   "source": [
    "### Ejercicio Básico 4\n",
    "Verificar si una llave existe en un diccionario"
   ]
  },
  {
   "cell_type": "code",
   "execution_count": 12,
   "id": "b1d9f6d9",
   "metadata": {},
   "outputs": [
    {
     "name": "stdout",
     "output_type": "stream",
     "text": [
      "La llave 'edad' existe en el diccionario.\n"
     ]
    }
   ],
   "source": [
    "# Escribe tu solución aquí\n",
    "mi_diccionario = {\n",
    "    \"nombre\": \"Juan\",\n",
    "    \"edad\": 25,\n",
    "    \"ciudad\": \"Quito\"\n",
    "}\n",
    "if \"edad\" in mi_diccionario:\n",
    "    print(\"La llave 'edad' existe en el diccionario.\")\n",
    "else:\n",
    "    print(\"La llave 'edad' no existe en el diccionario.\")\n"
   ]
  },
  {
   "cell_type": "markdown",
   "id": "0b8f0653",
   "metadata": {},
   "source": [
    "### Ejercicio Básico 5\n",
    "Eliminar un elemento de un diccionario"
   ]
  },
  {
   "cell_type": "code",
   "execution_count": 13,
   "id": "99ef8d65",
   "metadata": {},
   "outputs": [
    {
     "name": "stdout",
     "output_type": "stream",
     "text": [
      "{'nombre': 'Ana', 'ciudad': 'Quito'}\n"
     ]
    }
   ],
   "source": [
    "# Escribe tu solución aquí\n",
    "mi_diccionario = {\n",
    "    \"nombre\": \"Ana\",\n",
    "    \"edad\": 30,\n",
    "    \"ciudad\": \"Quito\"\n",
    "}\n",
    "\n",
    "del mi_diccionario[\"edad\"]\n",
    "\n",
    "print(mi_diccionario)\n"
   ]
  },
  {
   "cell_type": "markdown",
   "id": "7fe51000",
   "metadata": {},
   "source": [
    "### Ejercicio Básico 6\n",
    "Imprimir las llaves de un diccionario"
   ]
  },
  {
   "cell_type": "code",
   "execution_count": 14,
   "id": "383324c8",
   "metadata": {},
   "outputs": [
    {
     "name": "stdout",
     "output_type": "stream",
     "text": [
      "dict_keys(['nombre', 'edad', 'ciudad'])\n"
     ]
    }
   ],
   "source": [
    "# Escribe tu solución aquí\n",
    "mi_diccionario = {\n",
    "    \"nombre\": \"Ana\",\n",
    "    \"edad\": 30,\n",
    "    \"ciudad\": \"Quito\"\n",
    "}\n",
    "\n",
    "print(mi_diccionario.keys())\n"
   ]
  },
  {
   "cell_type": "markdown",
   "id": "cdfdf562",
   "metadata": {},
   "source": [
    "### Ejercicio Básico 7\n",
    "Imprimir los valores de un diccionario"
   ]
  },
  {
   "cell_type": "code",
   "execution_count": 15,
   "id": "bba68dae",
   "metadata": {},
   "outputs": [
    {
     "data": {
      "text/plain": [
       "dict_values([12, 15])"
      ]
     },
     "execution_count": 15,
     "metadata": {},
     "output_type": "execute_result"
    }
   ],
   "source": [
    "# Escribe tu solución aquí\n",
    "diccionario.values()"
   ]
  },
  {
   "cell_type": "markdown",
   "id": "de6e3f5f",
   "metadata": {},
   "source": [
    "### Ejercicio Básico 8\n",
    "Imprimir las llaves y valores de un diccionario"
   ]
  },
  {
   "cell_type": "code",
   "execution_count": 16,
   "id": "1b7096d3",
   "metadata": {},
   "outputs": [
    {
     "data": {
      "text/plain": [
       "dict_items([('num1', 12), ('num2', 15)])"
      ]
     },
     "execution_count": 16,
     "metadata": {},
     "output_type": "execute_result"
    }
   ],
   "source": [
    "# Escribe tu solución aquí\n",
    "diccionario.items()"
   ]
  },
  {
   "cell_type": "markdown",
   "id": "4fe8f3b6",
   "metadata": {},
   "source": [
    "### Ejercicio Aplicado 1\n",
    "Crea un diccionario vacío y agrega tres elementos de la siguiente forma: 'clave': valor"
   ]
  },
  {
   "cell_type": "code",
   "execution_count": 17,
   "id": "2bedb3b1",
   "metadata": {},
   "outputs": [
    {
     "name": "stdout",
     "output_type": "stream",
     "text": [
      "{'nombre': 'Ana', 'edad': 25, 'ciudad': 'Quito'}\n"
     ]
    }
   ],
   "source": [
    "# Escribe tu solución aquí\n",
    "mi_diccionario = {}\n",
    "\n",
    "mi_diccionario['nombre'] = 'Ana'\n",
    "mi_diccionario['edad'] = 25\n",
    "mi_diccionario['ciudad'] = 'Quito'\n",
    "\n",
    "print(mi_diccionario)\n"
   ]
  },
  {
   "cell_type": "markdown",
   "id": "5e93d56f",
   "metadata": {},
   "source": [
    "### Ejercicio Aplicado 2\n",
    "Dado el siguiente diccionario:\n",
    "```python\n",
    "personas = {\"Juan\": 28, \"María\": 20, \"Pedro\": 32, \"Ana\": 25}\n",
    "```\n",
    "a) Imprime la edad de Juan.  \n",
    "b) Agrega un nuevo elemento al diccionario con la clave 'Luis' y la edad 18.  \n",
    "c) Elimina el elemento con la clave 'Pedro'."
   ]
  },
  {
   "cell_type": "code",
   "execution_count": 18,
   "id": "8555f7d3",
   "metadata": {},
   "outputs": [
    {
     "name": "stdout",
     "output_type": "stream",
     "text": [
      "Edad de Juan: 28\n",
      "{'Juan': 28, 'María': 20, 'Ana': 25, 'Luis': 18}\n"
     ]
    }
   ],
   "source": [
    "# Escribe tu solución aquí\n",
    "personas = {\"Juan\": 28, \"María\": 20, \"Pedro\": 32, \"Ana\": 25}\n",
    "\n",
    "print(\"Edad de Juan:\", personas[\"Juan\"])\n",
    "\n",
    "personas[\"Luis\"] = 18\n",
    "\n",
    "del personas[\"Pedro\"]\n",
    "\n",
    "print(personas)\n"
   ]
  },
  {
   "cell_type": "markdown",
   "id": "28422800",
   "metadata": {},
   "source": [
    "### Ejercicio Aplicado 3\n",
    "Dado el siguiente diccionario:\n",
    "```python\n",
    "ventas = {\"manzanas\": 10, \"naranjas\": 5, \"peras\": 8}\n",
    "```\n",
    "a) Imprime la cantidad de manzanas vendidas.  \n",
    "b) Agrega 3 elementos más al diccionario: 'limones': 12, 'sandías': 3, 'melones': 5.  \n",
    "c) Imprime las claves del diccionario."
   ]
  },
  {
   "cell_type": "code",
   "execution_count": 19,
   "id": "b2689c93",
   "metadata": {},
   "outputs": [
    {
     "name": "stdout",
     "output_type": "stream",
     "text": [
      "Manzanas vendidas: 10\n",
      "Claves del diccionario: dict_keys(['manzanas', 'naranjas', 'peras', 'limones', 'sandías', 'melones'])\n",
      "Diccionario actualizado: {'manzanas': 10, 'naranjas': 5, 'peras': 8, 'limones': 12, 'sandías': 3, 'melones': 5}\n"
     ]
    }
   ],
   "source": [
    "# Escribe tu solución aquí\n",
    "ventas = {\"manzanas\": 10, \"naranjas\": 5, \"peras\": 8}\n",
    "\n",
    "print(\"Manzanas vendidas:\", ventas[\"manzanas\"])\n",
    "\n",
    "ventas[\"limones\"] = 12\n",
    "ventas[\"sandías\"] = 3\n",
    "ventas[\"melones\"] = 5\n",
    "\n",
    "print(\"Claves del diccionario:\", ventas.keys())\n",
    "\n",
    "print(\"Diccionario actualizado:\", ventas)\n"
   ]
  },
  {
   "cell_type": "markdown",
   "id": "285e41cc",
   "metadata": {},
   "source": [
    "### Ejercicio Aplicado 4\n",
    "Dado el siguiente diccionario:\n",
    "```python\n",
    "alumnos = {\"Juan\": {\"edad\": 22, \"promedio\": 8.5},\n",
    "           \"María\": {\"edad\": 20, \"promedio\": 9.0},\n",
    "           \"Pedro\": {\"edad\": 25, \"promedio\": 7.5}}\n",
    "```\n",
    "a) Imprime la edad de Juan.  \n",
    "b) Imprime el promedio de María.  \n",
    "c) Agrega un nuevo elemento al diccionario con la clave 'Ana' y los valores 'edad': 19 y 'promedio': 8.0."
   ]
  },
  {
   "cell_type": "code",
   "execution_count": 20,
   "id": "4dea8dfa",
   "metadata": {},
   "outputs": [
    {
     "name": "stdout",
     "output_type": "stream",
     "text": [
      "Edad de Juan: 22\n",
      "Promedio de María: 9.0\n",
      "{'Juan': {'edad': 22, 'promedio': 8.5}, 'María': {'edad': 20, 'promedio': 9.0}, 'Pedro': {'edad': 25, 'promedio': 7.5}, 'Ana': {'edad': 19, 'promedio': 8.0}}\n"
     ]
    }
   ],
   "source": [
    "# Escribe tu solución aquí\n",
    "alumnos = {\n",
    "    \"Juan\": {\"edad\": 22, \"promedio\": 8.5},\n",
    "    \"María\": {\"edad\": 20, \"promedio\": 9.0},\n",
    "    \"Pedro\": {\"edad\": 25, \"promedio\": 7.5}\n",
    "}\n",
    "\n",
    "print(\"Edad de Juan:\", alumnos[\"Juan\"][\"edad\"])\n",
    "\n",
    "print(\"Promedio de María:\", alumnos[\"María\"][\"promedio\"])\n",
    "\n",
    "alumnos[\"Ana\"] = {\"edad\": 19, \"promedio\": 8.0}\n",
    "\n",
    "print(alumnos)\n"
   ]
  },
  {
   "cell_type": "markdown",
   "id": "e6c304c2",
   "metadata": {},
   "source": [
    "### Ejercicio Aplicado 5\n",
    "Dado el siguiente diccionario:\n",
    "```python\n",
    "empleados = {\"Juan\": {\"departamento\": \"Ventas\", \"sueldo\": 1500},\n",
    "             \"María\": {\"departamento\": \"Contabilidad\", \"sueldo\": 1800},\n",
    "             \"Pedro\": {\"departamento\": \"Ventas\", \"sueldo\": 1700},\n",
    "             \"Ana\": {\"departamento\": \"Recursos Humanos\", \"sueldo\": 1900}}\n",
    "```\n",
    "a) Imprime el sueldo de Pedro.  \n",
    "b) Cambia el sueldo de Ana a 2000.  \n",
    "c) Crea un nuevo diccionario con los empleados del departamento de Ventas."
   ]
  },
  {
   "cell_type": "code",
   "execution_count": 21,
   "id": "dbed37f4",
   "metadata": {},
   "outputs": [
    {
     "name": "stdout",
     "output_type": "stream",
     "text": [
      "Sueldo de Pedro: 1700\n",
      "Diccionario actualizado: {'Juan': {'departamento': 'Ventas', 'sueldo': 1500}, 'María': {'departamento': 'Contabilidad', 'sueldo': 1800}, 'Pedro': {'departamento': 'Ventas', 'sueldo': 1700}, 'Ana': {'departamento': 'Recursos Humanos', 'sueldo': 2000}}\n",
      "Empleados del departamento Ventas: {'Juan': {'departamento': 'Ventas', 'sueldo': 1500}, 'Pedro': {'departamento': 'Ventas', 'sueldo': 1700}}\n"
     ]
    }
   ],
   "source": [
    "# Escribe tu solución aquí\n",
    "empleados = {\n",
    "    \"Juan\": {\"departamento\": \"Ventas\", \"sueldo\": 1500},\n",
    "    \"María\": {\"departamento\": \"Contabilidad\", \"sueldo\": 1800},\n",
    "    \"Pedro\": {\"departamento\": \"Ventas\", \"sueldo\": 1700},\n",
    "    \"Ana\": {\"departamento\": \"Recursos Humanos\", \"sueldo\": 1900}\n",
    "}\n",
    "\n",
    "print(\"Sueldo de Pedro:\", empleados[\"Pedro\"][\"sueldo\"])\n",
    "\n",
    "empleados[\"Ana\"][\"sueldo\"] = 2000\n",
    "\n",
    "ventas = {nombre: datos for nombre, datos in empleados.items() if datos[\"departamento\"] == \"Ventas\"}\n",
    "\n",
    "print(\"Diccionario actualizado:\", empleados)\n",
    "print(\"Empleados del departamento Ventas:\", ventas)\n"
   ]
  },
  {
   "cell_type": "markdown",
   "id": "7706badf",
   "metadata": {},
   "source": [
    "### Ejercicio Aplicado 6\n",
    "Dado el siguiente diccionario:\n",
    "```python\n",
    "cursos = {\"Pedro\": [\"Matemáticas\", \"Biología\", \"Historia\"],\n",
    "          \"María\": [\"Física\", \"Química\", \"Literatura\"]}\n",
    "```\n",
    "a) Imprime las materias en las que está inscrito Pedro.  \n",
    "b) Agrega una materia más a la lista de materias de María: 'Programación'.  \n",
    "c) Crea un nuevo diccionario con los estudiantes que están inscritos en la materia de Biología."
   ]
  },
  {
   "cell_type": "code",
   "execution_count": 22,
   "id": "6cb4d006",
   "metadata": {},
   "outputs": [
    {
     "name": "stdout",
     "output_type": "stream",
     "text": [
      "Materias de Pedro: ['Matemáticas', 'Biología', 'Historia']\n",
      "Diccionario actualizado: {'Pedro': ['Matemáticas', 'Biología', 'Historia'], 'María': ['Física', 'Química', 'Literatura', 'Programación']}\n",
      "Estudiantes inscritos en Biología: {'Pedro': ['Matemáticas', 'Biología', 'Historia']}\n"
     ]
    }
   ],
   "source": [
    "# Escribe tu solución aquí\n",
    "cursos = {\n",
    "    \"Pedro\": [\"Matemáticas\", \"Biología\", \"Historia\"],\n",
    "    \"María\": [\"Física\", \"Química\", \"Literatura\"]\n",
    "}\n",
    "\n",
    "print(\"Materias de Pedro:\", cursos[\"Pedro\"])\n",
    "\n",
    "cursos[\"María\"].append(\"Programación\")\n",
    "\n",
    "estudiantes_biologia = {nombre: materias for nombre, materias in cursos.items() if \"Biología\" in materias}\n",
    "\n",
    "print(\"Diccionario actualizado:\", cursos)\n",
    "print(\"Estudiantes inscritos en Biología:\", estudiantes_biologia)\n"
   ]
  },
  {
   "cell_type": "markdown",
   "id": "f95a0efa",
   "metadata": {},
   "source": [
    "### Ejercicio Aplicado 7\n",
    "Dado el siguiente diccionario:\n",
    "```python\n",
    "productos = {'manzanas': 2.99, 'naranjas': 1.99, 'peras': 3.99, 'uvas': 4.99,\n",
    "             'kiwis': 0.99, 'duraznos': 2.49}\n",
    "stock = {'manzanas': 100, 'naranjas': 50, 'peras': 25, 'uvas': 75, 'kiwis': 200, 'duraznos': 60}\n",
    "```\n",
    "a) Imprime el precio de las naranjas.  \n",
    "b) Cambia el stock de peras a 12.  \n",
    "c) Crea una función que calcule el valor total de los productos en el diccionario."
   ]
  },
  {
   "cell_type": "code",
   "execution_count": 23,
   "id": "08363096",
   "metadata": {},
   "outputs": [
    {
     "name": "stdout",
     "output_type": "stream",
     "text": [
      "Precio de las naranjas: 1.99\n",
      "Stock actualizado: {'manzanas': 100, 'naranjas': 50, 'peras': 12, 'uvas': 75, 'kiwis': 200, 'duraznos': 60}\n",
      "Valor total de productos: 1168.03\n"
     ]
    }
   ],
   "source": [
    "# Escribe tu solución aquí\n",
    "productos = {\n",
    "    'manzanas': 2.99,\n",
    "    'naranjas': 1.99,\n",
    "    'peras': 3.99,\n",
    "    'uvas': 4.99,\n",
    "    'kiwis': 0.99,\n",
    "    'duraznos': 2.49\n",
    "}\n",
    "\n",
    "stock = {\n",
    "    'manzanas': 100,\n",
    "    'naranjas': 50,\n",
    "    'peras': 25,\n",
    "    'uvas': 75,\n",
    "    'kiwis': 200,\n",
    "    'duraznos': 60\n",
    "}\n",
    "\n",
    "print(\"Precio de las naranjas:\", productos[\"naranjas\"])\n",
    "\n",
    "stock[\"peras\"] = 12\n",
    "\n",
    "def valor_total(productos, stock):\n",
    "    total = 0\n",
    "    for producto in productos:\n",
    "        total += productos[producto] * stock.get(producto, 0)\n",
    "    return total\n",
    "\n",
    "print(\"Stock actualizado:\", stock)\n",
    "print(\"Valor total de productos:\", valor_total(productos, stock))\n"
   ]
  }
 ],
 "metadata": {
  "kernelspec": {
   "display_name": "base",
   "language": "python",
   "name": "python3"
  },
  "language_info": {
   "codemirror_mode": {
    "name": "ipython",
    "version": 3
   },
   "file_extension": ".py",
   "mimetype": "text/x-python",
   "name": "python",
   "nbconvert_exporter": "python",
   "pygments_lexer": "ipython3",
   "version": "3.13.5"
  }
 },
 "nbformat": 4,
 "nbformat_minor": 5
}
