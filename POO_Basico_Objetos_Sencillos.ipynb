{
 "cells": [
  {
   "cell_type": "markdown",
   "id": "ca887bab",
   "metadata": {},
   "source": [
    "# CURSO DE FUNDAMENTOS DE PYTHON  \n",
    "## Objetos en Python — Versión Sencilla\n",
    "\n",
    "**Objetivo:** entender lo básico de Programación Orientada a Objetos (POO) en Python:  \n",
    "- qué es una **clase**, qué es un **objeto**\n",
    "- **atributos** (datos) y **métodos** (acciones)\n",
    "- constructor `__init__` y uso de `self`\n",
    "\n",
    "> Nota: Esta versión es *simple* a propósito (sin herencia, properties, ni temas avanzados)."
   ]
  },
  {
   "cell_type": "markdown",
   "id": "a741ede2",
   "metadata": {},
   "source": [
    "## 1) ¿Qué es una clase y un objeto?"
   ]
  },
  {
   "cell_type": "markdown",
   "id": "a0a66cf0",
   "metadata": {},
   "source": [
    "- **Clase**: plantilla o molde (define cómo será un objeto).\n",
    "- **Objeto**: una instancia concreta creada a partir de la clase.\n",
    "- **Atributos**: datos del objeto (nombre, edad, etc.).\n",
    "- **Métodos**: funciones que pertenecen al objeto (saludar, calcular, etc.)."
   ]
  },
  {
   "cell_type": "markdown",
   "id": "eef2ff80",
   "metadata": {},
   "source": [
    "## 2) Primera clase: `Persona`"
   ]
  },
  {
   "cell_type": "code",
   "execution_count": null,
   "id": "9d286e7a",
   "metadata": {},
   "outputs": [
    {
     "ename": "NameError",
     "evalue": "name 'azul' is not defined",
     "output_type": "error",
     "traceback": [
      "\u001b[1;31m---------------------------------------------------------------------------\u001b[0m",
      "\u001b[1;31mNameError\u001b[0m                                 Traceback (most recent call last)",
      "Cell \u001b[1;32mIn[5], line 15\u001b[0m\n\u001b[0;32m     12\u001b[0m         \u001b[38;5;28mprint\u001b[39m(\u001b[38;5;124mf\u001b[39m\u001b[38;5;124m\"\u001b[39m\u001b[38;5;124mHola, soy \u001b[39m\u001b[38;5;132;01m{\u001b[39;00m\u001b[38;5;28mself\u001b[39m\u001b[38;5;241m.\u001b[39mnombre\u001b[38;5;132;01m}\u001b[39;00m\u001b[38;5;124m y tengo \u001b[39m\u001b[38;5;132;01m{\u001b[39;00m\u001b[38;5;28mself\u001b[39m\u001b[38;5;241m.\u001b[39medad\u001b[38;5;132;01m}\u001b[39;00m\u001b[38;5;124m mi color favorito es \u001b[39m\u001b[38;5;132;01m{\u001b[39;00m\u001b[38;5;28mself\u001b[39m\u001b[38;5;241m.\u001b[39mazul\u001b[38;5;132;01m}\u001b[39;00m\u001b[38;5;124m soy de altura grande \u001b[39m\u001b[38;5;132;01m{\u001b[39;00m\u001b[38;5;28mself\u001b[39m\u001b[38;5;241m.\u001b[39mtamaño\u001b[38;5;132;01m}\u001b[39;00m\u001b[38;5;124m\"\u001b[39m )\n\u001b[0;32m     14\u001b[0m \u001b[38;5;66;03m# Crear objetos (instancias)\u001b[39;00m\n\u001b[1;32m---> 15\u001b[0m p1 \u001b[38;5;241m=\u001b[39m Persona(\u001b[38;5;124m\"\u001b[39m\u001b[38;5;124mAna\u001b[39m\u001b[38;5;124m\"\u001b[39m, \u001b[38;5;241m20\u001b[39m)\n\u001b[0;32m     16\u001b[0m p2 \u001b[38;5;241m=\u001b[39m Persona(\u001b[38;5;124m\"\u001b[39m\u001b[38;5;124mLuis\u001b[39m\u001b[38;5;124m\"\u001b[39m, \u001b[38;5;241m22\u001b[39m)\n\u001b[0;32m     17\u001b[0m p3 \u001b[38;5;241m=\u001b[39m Persona(\u001b[38;5;124m\"\u001b[39m\u001b[38;5;124mCarlos\u001b[39m\u001b[38;5;124m\"\u001b[39m, \u001b[38;5;241m25\u001b[39m)\n",
      "Cell \u001b[1;32mIn[5], line 7\u001b[0m, in \u001b[0;36mPersona.__init__\u001b[1;34m(self, nombre, edad)\u001b[0m\n\u001b[0;32m      5\u001b[0m \u001b[38;5;28mself\u001b[39m\u001b[38;5;241m.\u001b[39mnombre \u001b[38;5;241m=\u001b[39m nombre\n\u001b[0;32m      6\u001b[0m \u001b[38;5;28mself\u001b[39m\u001b[38;5;241m.\u001b[39medad \u001b[38;5;241m=\u001b[39m edad\n\u001b[1;32m----> 7\u001b[0m \u001b[38;5;28mself\u001b[39m\u001b[38;5;241m.\u001b[39mcolor \u001b[38;5;241m=\u001b[39m azul\n\u001b[0;32m      8\u001b[0m \u001b[38;5;28mself\u001b[39m\u001b[38;5;241m.\u001b[39mtamaño \u001b[38;5;241m=\u001b[39m grande\n",
      "\u001b[1;31mNameError\u001b[0m: name 'azul' is not defined"
     ]
    }
   ],
   "source": [
    "# Instrucciones: ejecuta y observa cómo se construye y usa un objeto.\n",
    "class Persona:\n",
    "    def _init_(self, nombre, edad):\n",
    "        # Atributos (datos) del objeto\n",
    "        self.nombre = nombre\n",
    "        self.edad = edad\n",
    "\n",
    "    def saludar(self):\n",
    "        # Método (acción) que usa los atributos\n",
    "        print(f\"Hola, soy {self.nombre} y tengo {self.edad} años.\")\n",
    "\n",
    "# Crear objetos (instancias)\n",
    "p1 = Persona(\"Ana\", 20)\n",
    "p2 = Persona(\"Luis\", 22)\n",
    "\n",
    "# Usar sus métodos\n",
    "p1.saludar()\n",
    "p2.saludar()"
   ]
  },
  {
   "cell_type": "markdown",
   "id": "48b99329",
   "metadata": {},
   "source": [
    "## 3) Clase `Estudiante` (con lista de notas)"
   ]
  },
  {
   "cell_type": "code",
   "execution_count": 6,
   "id": "b2761fff",
   "metadata": {},
   "outputs": [
    {
     "name": "stdout",
     "output_type": "stream",
     "text": [
      "María -> promedio: 9.0\n",
      "Pedro -> promedio: 6.67\n"
     ]
    }
   ],
   "source": [
    "# Instrucciones: ejecuta y revisa cómo calcular un promedio simple.\n",
    "class Estudiante:\n",
    "    def __init__(self, nombre, notas):\n",
    "        self.nombre = nombre\n",
    "        self.notas = list(notas)  # guardamos una lista\n",
    "\n",
    "    def promedio(self):\n",
    "        if not self.notas:\n",
    "            return 0\n",
    "        return sum(self.notas)/len(self.notas)\n",
    "\n",
    "e1 = Estudiante(\"María\", [8, 9, 10])\n",
    "e2 = Estudiante(\"Pedro\", [6, 7, 7])\n",
    "\n",
    "print(e1.nombre, \"-> promedio:\", round(e1.promedio(), 2))\n",
    "print(e2.nombre, \"-> promedio:\", round(e2.promedio(), 2))"
   ]
  },
  {
   "cell_type": "markdown",
   "id": "89018c0f",
   "metadata": {},
   "source": [
    "## 4) Clase `Circulo` (cálculo de área)"
   ]
  },
  {
   "cell_type": "code",
   "execution_count": 7,
   "id": "448389ef",
   "metadata": {},
   "outputs": [
    {
     "name": "stdout",
     "output_type": "stream",
     "text": [
      "Radio: 3.0 | Área: 28.274\n"
     ]
    }
   ],
   "source": [
    "# Instrucciones: ejecuta y observa el método que calcula un valor.\n",
    "import math\n",
    "\n",
    "class Circulo:\n",
    "    def __init__(self, radio):\n",
    "        self.radio = float(radio)\n",
    "\n",
    "    def area(self):\n",
    "        return math.pi * (self.radio ** 2)\n",
    "\n",
    "c = Circulo(3)\n",
    "print(\"Radio:\", c.radio, \"| Área:\", round(c.area(), 3))"
   ]
  },
  {
   "cell_type": "markdown",
   "id": "f738a24c",
   "metadata": {},
   "source": [
    "## 5) Lista de objetos y recorrido"
   ]
  },
  {
   "cell_type": "code",
   "execution_count": null,
   "id": "719463bf",
   "metadata": {},
   "outputs": [
    {
     "name": "stdout",
     "output_type": "stream",
     "text": [
      "Ana: 8.67 -> APROBADO\n",
      "Luis: 6.33 -> REPROBADO\n",
      "Mar: 9.5 -> APROBADO\n"
     ]
    }
   ],
   "source": [
    "# Instrucciones: recorre una lista de Estudiantes e imprime los aprobados (promedio >= 7).\n",
    "grupo = [\n",
    "    Estudiante(\"Ana\", [9, 8, 9]),\n",
    "    Estudiante(\"Luis\", [6, 6, 7]),\n",
    "    Estudiante(\"Mar\", [10, 9, 9.5]),\n",
    "]\n",
    "\n",
    "for est in grupo:\n",
    "    estado = \"APROBADO\"\n",
    "     if est.promedio() >= 7\n",
    "      else \"REPROBADO\"\n",
    "    print(f\"{est.nombre}: {round(est.promedio(),2)} -> {estado}\")"
   ]
  },
  {
   "cell_type": "markdown",
   "id": "5c00c922",
   "metadata": {},
   "source": [
    "## 6) Ejercicios (para que practiques)\n",
    "> En estas celdas **solo hay comentarios** con instrucciones. Escribe tu solución debajo de cada comentario."
   ]
  },
  {
   "cell_type": "markdown",
   "id": "95b6229f",
   "metadata": {},
   "source": [
    "### Ejercicio 1 — `Producto` (muy básico)"
   ]
  },
  {
   "cell_type": "code",
   "execution_count": 3,
   "id": "3f38a951",
   "metadata": {},
   "outputs": [
    {
     "name": "stdout",
     "output_type": "stream",
     "text": [
      "Precio con IVA 12%: 28.0\n"
     ]
    }
   ],
   "source": [
    "# Instrucciones:\n",
    "# 1) Crea una clase Producto con atributos: nombre (str), precio (float).\n",
    "# 2) Añade un método 'con_iva(tasa)' que devuelva el precio con IVA (tasa en %).\n",
    "# 3) Crea un objeto de ejemplo y muestra su precio con IVA 12%.\n",
    "# Escribe tu solución aquí:\n",
    "# ...existing code...\n",
    "class Producto:\n",
    "    def __init__(self, nombre, precio):\n",
    "        self.nombre = nombre\n",
    "        self.precio = float(precio)\n",
    "\n",
    "    def con_iva(self, tasa):\n",
    "        return self.precio * (1 + tasa / 100)\n",
    "\n",
    "prod = Producto(\"Teclado\", 25.0)\n",
    "print(\"Precio con IVA 12%:\", round(prod.con_iva(12), 2))\n"
   ]
  },
  {
   "cell_type": "markdown",
   "id": "d23161d2",
   "metadata": {},
   "source": [
    "### Ejercicio 2 — `CuentaBancaria`"
   ]
  },
  {
   "cell_type": "code",
   "execution_count": null,
   "id": "7a907b76",
   "metadata": {},
   "outputs": [
    {
     "name": "stdout",
     "output_type": "stream",
     "text": [
      "Saldo final: 70.0\n"
     ]
    }
   ],
   "source": [
    "# Instrucciones:\n",
    "# 1) Crea una clase CuentaBancaria con atributo 'saldo' (float, inicia en 0).\n",
    "# 2) Métodos: depositar(monto), retirar(monto). Si no hay saldo suficiente, no retirar y muestra un mensaje.\n",
    "# 3) Crea una cuenta, deposita 100 y retira 30. Imprime el saldo final.\n",
    "# Escribe tu solución aquí:\n",
    "# ...existing code...\n",
    "class CuentaBancaria:           \n",
    "    def __init__(self):\n",
    "        self.saldo = 0.0\n",
    "\n",
    "    def depositar(self, monto):\n",
    "        self.saldo += monto\n",
    "\n",
    "    def retirar(self, monto):\n",
    "        if monto > self.saldo:\n",
    "            print(\"Saldo insuficiente\")\n",
    "        else:\n",
    "            self.saldo -= monto     \n",
    "cuenta = CuentaBancaria()\n",
    "cuenta.depositar(100)\n",
    "cuenta.retirar(30)\n",
    "print(\"Saldo final:\", round(cuenta.saldo, 2))\n"
   ]
  },
  {
   "cell_type": "markdown",
   "id": "48db604f",
   "metadata": {},
   "source": [
    "### Ejercicio 3 — `Alumno` y aprobación"
   ]
  },
  {
   "cell_type": "code",
   "execution_count": 4,
   "id": "3c1fedf3",
   "metadata": {},
   "outputs": [],
   "source": [
    "# Instrucciones:\n",
    "# 1) Crea una clase Alumno con atributos: nombre (str) y nota_final (float).\n",
    "# 2) Método 'aprobo()' que devuelva True si la nota_final >= 7, caso contrario False.\n",
    "# 3) Crea una lista con 3 alumnos y muestra los nombres de quienes aprueban.\n",
    "# Escribe tu solución aquí:\n",
    "class Alumno:\n",
    "    def __init__(self, nombre, nota_final):\n",
    "        self.nombre = nombre\n",
    "        self.nota_final = float(nota_final)\n",
    "\n",
    "    def aprobo(self):\n",
    "        return self.nota_final >= 7"
   ]
  },
  {
   "cell_type": "markdown",
   "id": "a643c187",
   "metadata": {},
   "source": [
    "## 7) (Opcional) Validaciones con `assert`\n",
    "> Si ya resolviste los ejercicios, puedes usar estas pruebas simples para verificar tu respuesta."
   ]
  },
  {
   "cell_type": "code",
   "execution_count": null,
   "id": "eccf0f23",
   "metadata": {},
   "outputs": [
    {
     "name": "stdout",
     "output_type": "stream",
     "text": [
      "Si activas y pasan los asserts, ¡todo OK! ✅\n"
     ]
    }
   ],
   "source": [
    "# OPCIONAL: descomenta y ajusta los nombres de tus clases/métodos si los cambiaste.\n",
    "\n",
    "# --- Producto ---\n",
    "# prod = Producto(\"Teclado\", 25.0)\n",
    "# assert round(prod.con_iva(12), 2) == 28.0\n",
    "\n",
    "# --- CuentaBancaria ---\n",
    "# cta = CuentaBancaria()\n",
    "# cta.depositar(100); cta.retirar(30)\n",
    "# assert round(cta.saldo, 2) == 70.0\n",
    "\n",
    "# --- Alumno ---\n",
    "# a1, a2 = Alumno(\"Ana\", 8.0), Alumno(\"Luis\", 6.5)\n",
    "# assert a1.aprobo() is True and a2.aprobo() is False\n",
    "\n",
    "print(\"Si activas y pasan los asserts, ¡todo OK! ✅\")\n"
   ]
  }
 ],
 "metadata": {
  "kernelspec": {
   "display_name": "base",
   "language": "python",
   "name": "python3"
  },
  "language_info": {
   "codemirror_mode": {
    "name": "ipython",
    "version": 3
   },
   "file_extension": ".py",
   "mimetype": "text/x-python",
   "name": "python",
   "nbconvert_exporter": "python",
   "pygments_lexer": "ipython3",
   "version": "3.13.5"
  }
 },
 "nbformat": 4,
 "nbformat_minor": 5
}
