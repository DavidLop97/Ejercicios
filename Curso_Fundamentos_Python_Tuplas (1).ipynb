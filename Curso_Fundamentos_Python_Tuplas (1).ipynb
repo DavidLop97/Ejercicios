{
 "cells": [
  {
   "cell_type": "markdown",
   "id": "3958fd5a",
   "metadata": {},
   "source": [
    "# CURSO DE FUNDAMENTOS DE PYTHON\n",
    "## EJERCICIOS DE TUPLAS"
   ]
  },
  {
   "cell_type": "markdown",
   "id": "95569d08",
   "metadata": {},
   "source": [
    "### Ejercicio 1\n",
    "Crear una tupla vacía"
   ]
  },
  {
   "cell_type": "code",
   "execution_count": 1,
   "id": "4dbdd0f3",
   "metadata": {},
   "outputs": [
    {
     "data": {
      "text/plain": [
       "()"
      ]
     },
     "execution_count": 1,
     "metadata": {},
     "output_type": "execute_result"
    }
   ],
   "source": [
    "# Escribe tu solución aquí\n",
    "tuple = ()\n",
    "tuple"
   ]
  },
  {
   "cell_type": "markdown",
   "id": "471ea4ec",
   "metadata": {},
   "source": [
    "### Ejercicio 2\n",
    "Crear una tupla con algunos elementos"
   ]
  },
  {
   "cell_type": "code",
   "execution_count": 2,
   "id": "d64155ad",
   "metadata": {},
   "outputs": [
    {
     "data": {
      "text/plain": [
       "('hola', 'adios', 'buenas tardes', 'buenos dias', 'buenas noches')"
      ]
     },
     "execution_count": 2,
     "metadata": {},
     "output_type": "execute_result"
    }
   ],
   "source": [
    "# Escribe tu solución aquí\n",
    "tuple = ('hola','adios','buenas tardes','buenos dias','buenas noches')\n",
    "tuple"
   ]
  },
  {
   "cell_type": "markdown",
   "id": "e58dc97c",
   "metadata": {},
   "source": [
    "### Ejercicio 3\n",
    "Acceder a un elemento de la tupla"
   ]
  },
  {
   "cell_type": "code",
   "execution_count": 3,
   "id": "3d38d0a1",
   "metadata": {},
   "outputs": [
    {
     "name": "stdout",
     "output_type": "stream",
     "text": [
      "hola\n",
      "buenas tardes\n",
      "buenas noches\n"
     ]
    }
   ],
   "source": [
    "# Escribe tu solución aquí\n",
    "print(tuple[0])  \n",
    "print(tuple[2]) \n",
    "print(tuple[-1]) \n"
   ]
  },
  {
   "cell_type": "markdown",
   "id": "3d3ea4ff",
   "metadata": {},
   "source": [
    "### Ejercicio 4\n",
    "Intentar modificar un elemento de la tupla (esto producirá un error ya que las tuplas son inmutables)"
   ]
  },
  {
   "cell_type": "code",
   "execution_count": 4,
   "id": "23550096",
   "metadata": {},
   "outputs": [
    {
     "ename": "TypeError",
     "evalue": "'tuple' object does not support item assignment",
     "output_type": "error",
     "traceback": [
      "\u001b[1;31m---------------------------------------------------------------------------\u001b[0m",
      "\u001b[1;31mTypeError\u001b[0m                                 Traceback (most recent call last)",
      "Cell \u001b[1;32mIn[4], line 2\u001b[0m\n\u001b[0;32m      1\u001b[0m \u001b[38;5;66;03m# Escribe tu solución aquí\u001b[39;00m\n\u001b[1;32m----> 2\u001b[0m \u001b[38;5;28mtuple\u001b[39m[\u001b[38;5;241m0\u001b[39m] \u001b[38;5;241m=\u001b[39m \u001b[38;5;124m'\u001b[39m\u001b[38;5;124mbuen día\u001b[39m\u001b[38;5;124m'\u001b[39m\n",
      "\u001b[1;31mTypeError\u001b[0m: 'tuple' object does not support item assignment"
     ]
    }
   ],
   "source": [
    "# Escribe tu solución aquí\n",
    "tuple[0] = 'buen día'\n"
   ]
  },
  {
   "cell_type": "markdown",
   "id": "2f46a63f",
   "metadata": {},
   "source": [
    "### Ejercicio 5\n",
    "Concatenar dos tuplas"
   ]
  },
  {
   "cell_type": "code",
   "execution_count": 5,
   "id": "a70577e9",
   "metadata": {},
   "outputs": [
    {
     "name": "stdout",
     "output_type": "stream",
     "text": [
      "('hola', 'adios', 'buenas tardes', 'buenos dias', 'buenas noches')\n"
     ]
    }
   ],
   "source": [
    "# Escribe tu solución aquí\n",
    "tuple1 = ('hola', 'adios', 'buenas tardes')\n",
    "tuple2 = ('buenos dias', 'buenas noches')\n",
    "\n",
    "tuple3 = tuple1 + tuple2\n",
    "\n",
    "print(tuple3)\n"
   ]
  },
  {
   "cell_type": "markdown",
   "id": "06989a64",
   "metadata": {},
   "source": [
    "### Ejercicio 6\n",
    "Obtener la longitud de una tupla"
   ]
  },
  {
   "cell_type": "code",
   "execution_count": 6,
   "id": "511c00ed",
   "metadata": {},
   "outputs": [
    {
     "name": "stdout",
     "output_type": "stream",
     "text": [
      "5\n"
     ]
    }
   ],
   "source": [
    "# Escribe tu solución aquí\n",
    "tuple = ('hola', 'adios', 'buenas tardes', 'buenos dias', 'buenas noches')\n",
    "\n",
    "print(len(tuple))\n"
   ]
  },
  {
   "cell_type": "markdown",
   "id": "043aa8f9",
   "metadata": {},
   "source": [
    "### Ejercicio 7\n",
    "Convertir una tupla en una lista"
   ]
  },
  {
   "cell_type": "code",
   "execution_count": 7,
   "id": "be09e1b7",
   "metadata": {},
   "outputs": [
    {
     "name": "stdout",
     "output_type": "stream",
     "text": [
      "['hola', 'adios', 'buenas tardes', 'buenos dias', 'buenas noches']\n",
      "<class 'list'>\n"
     ]
    }
   ],
   "source": [
    "# Escribe tu solución aquí\n",
    "tuple = ('hola', 'adios', 'buenas tardes', 'buenos dias', 'buenas noches')\n",
    "\n",
    "lista = list(tuple)\n",
    "\n",
    "print(lista)\n",
    "print(type(lista))\n"
   ]
  },
  {
   "cell_type": "markdown",
   "id": "d9c8b3d6",
   "metadata": {},
   "source": [
    "### Ejercicio 8\n",
    "Convertir una lista en una tupla"
   ]
  },
  {
   "cell_type": "code",
   "execution_count": 19,
   "id": "c9d30b3f",
   "metadata": {},
   "outputs": [
    {
     "name": "stdout",
     "output_type": "stream",
     "text": [
      "('hola', 'adios', 'buenas tardes', 'buenos dias', 'buenas noches')\n",
      "<class 'tuple'>\n"
     ]
    }
   ],
   "source": [
    "# Escribe tu solución aquí\n",
    "mi_lista = ['hola', 'adios', 'buenas tardes', 'buenos dias', 'buenas noches']\n",
    "\n",
    "mi_tupla = builtins.tuple(mi_lista)\n",
    "\n",
    "\n",
    "print(mi_tupla)\n",
    "print(type(mi_tupla))\n",
    "\n",
    "\n"
   ]
  },
  {
   "cell_type": "markdown",
   "id": "7176ec06",
   "metadata": {},
   "source": [
    "### Ejercicio 9\n",
    "Crear una tupla de números enteros y calcular su suma y promedio"
   ]
  },
  {
   "cell_type": "code",
   "execution_count": 11,
   "id": "e7f7a609",
   "metadata": {},
   "outputs": [
    {
     "name": "stdout",
     "output_type": "stream",
     "text": [
      "Tupla: (10, 20, 30, 40, 50)\n",
      "Suma: 150\n",
      "Promedio: 30.0\n"
     ]
    }
   ],
   "source": [
    "# Escribe tu solución aquí\n",
    "numeros = (10, 20, 30, 40, 50)\n",
    "suma = sum(numeros)\n",
    "\n",
    "promedio = suma / len(numeros)\n",
    "\n",
    "print(\"Tupla:\", numeros)\n",
    "print(\"Suma:\", suma)\n",
    "print(\"Promedio:\", promedio)\n"
   ]
  },
  {
   "cell_type": "markdown",
   "id": "40cff443",
   "metadata": {},
   "source": [
    "### Ejercicio 10\n",
    "Crear dos tuplas de la misma longitud y crear una nueva tupla que contenga la suma de los elementos correspondientes de ambas tuplas"
   ]
  },
  {
   "cell_type": "code",
   "execution_count": 18,
   "id": "7e86cf87",
   "metadata": {},
   "outputs": [
    {
     "name": "stdout",
     "output_type": "stream",
     "text": [
      "Tupla 1: (1, 2, 3, 4, 5)\n",
      "Tupla 2: (10, 20, 30, 40, 50)\n",
      "Tupla suma: (11, 22, 33, 44, 55)\n"
     ]
    }
   ],
   "source": [
    "# Escribe tu solución aquí\n",
    "tupla1 = (1, 2, 3, 4, 5)\n",
    "tupla2 = (10, 20, 30, 40, 50)\n",
    "\n",
    "resultado = builtins.tuple(a + b for a, b in zip(tupla1, tupla2))\n",
    "\n",
    "print(\"Tupla 1:\", tupla1)\n",
    "print(\"Tupla 2:\", tupla2)\n",
    "print(\"Tupla suma:\", resultado)\n"
   ]
  },
  {
   "cell_type": "markdown",
   "id": "1860c8b5",
   "metadata": {},
   "source": [
    "### Ejercicio 11\n",
    "Crear una tupla de nombres y ordenarla alfabéticamente"
   ]
  },
  {
   "cell_type": "code",
   "execution_count": 17,
   "id": "8747c99f",
   "metadata": {},
   "outputs": [
    {
     "name": "stdout",
     "output_type": "stream",
     "text": [
      "Tupla original: ('Juan', 'Ana', 'Pedro', 'María', 'Luis')\n",
      "Tupla ordenada: ('Ana', 'Juan', 'Luis', 'María', 'Pedro')\n"
     ]
    }
   ],
   "source": [
    "# Escribe tu solución aquí\n",
    "nombres = (\"Juan\", \"Ana\", \"Pedro\", \"María\", \"Luis\")\n",
    "\n",
    "lista_nombres = list(nombres)\n",
    "lista_nombres.sort()\n",
    "\n",
    "import builtins\n",
    "nombres_ordenados = builtins.tuple(lista_nombres)\n",
    "\n",
    "print(\"Tupla original:\", nombres)\n",
    "print(\"Tupla ordenada:\", nombres_ordenados)\n",
    "\n"
   ]
  },
  {
   "cell_type": "markdown",
   "id": "55909a48",
   "metadata": {},
   "source": [
    "### Ejercicio 12\n",
    "Crear una tupla de números y encontrar el valor mínimo y máximo"
   ]
  },
  {
   "cell_type": "code",
   "execution_count": 20,
   "id": "40caeaad",
   "metadata": {},
   "outputs": [
    {
     "name": "stdout",
     "output_type": "stream",
     "text": [
      "Tupla: (10, 5, 8, 20, 3, 15)\n",
      "Valor mínimo: 3\n",
      "Valor máximo: 20\n"
     ]
    }
   ],
   "source": [
    "# Escribe tu solución aquí\n",
    "numeros = (10, 5, 8, 20, 3, 15)\n",
    "\n",
    "minimo = min(numeros)\n",
    "\n",
    "maximo = max(numeros)\n",
    "\n",
    "print(\"Tupla:\", numeros)\n",
    "print(\"Valor mínimo:\", minimo)\n",
    "print(\"Valor máximo:\", maximo)\n"
   ]
  },
  {
   "cell_type": "markdown",
   "id": "226d77e2",
   "metadata": {},
   "source": [
    "### Ejercicio 13\n",
    "Crear una tupla de números y convertirla en una lista"
   ]
  },
  {
   "cell_type": "code",
   "execution_count": 21,
   "id": "8d33e2a9",
   "metadata": {},
   "outputs": [
    {
     "name": "stdout",
     "output_type": "stream",
     "text": [
      "Tupla: (10, 5, 8, 20, 3, 15)\n",
      "Lista: [10, 5, 8, 20, 3, 15]\n",
      "<class 'list'>\n"
     ]
    }
   ],
   "source": [
    "# Escribe tu solución aquí\n",
    "numeros = (10, 5, 8, 20, 3, 15)\n",
    "\n",
    "lista_numeros = list(numeros)\n",
    "\n",
    "print(\"Tupla:\", numeros)\n",
    "print(\"Lista:\", lista_numeros)\n",
    "print(type(lista_numeros))\n"
   ]
  },
  {
   "cell_type": "markdown",
   "id": "aed8eb40",
   "metadata": {},
   "source": [
    "### Ejercicio 14\n",
    "Crear una tupla con los días de la semana y mostrar el tercer elemento"
   ]
  },
  {
   "cell_type": "code",
   "execution_count": 22,
   "id": "e0e0592d",
   "metadata": {},
   "outputs": [
    {
     "name": "stdout",
     "output_type": "stream",
     "text": [
      "El tercer día de la semana es: miércoles\n"
     ]
    }
   ],
   "source": [
    "# Escribe tu solución aquí\n",
    "dias_semana = (\"lunes\", \"martes\", \"miércoles\", \"jueves\", \"viernes\", \"sábado\", \"domingo\")\n",
    "\n",
    "print(\"El tercer día de la semana es:\", dias_semana[2])\n"
   ]
  },
  {
   "cell_type": "markdown",
   "id": "a4e2f0bd",
   "metadata": {},
   "source": [
    "### Ejercicio 15\n",
    "Crear una tupla con números enteros y mostrar aquellos que son pares"
   ]
  },
  {
   "cell_type": "code",
   "execution_count": 24,
   "id": "ae68bcc2",
   "metadata": {},
   "outputs": [
    {
     "name": "stdout",
     "output_type": "stream",
     "text": [
      "Tupla original: (1, 2, 3, 4, 5, 6, 7, 8, 9, 10)\n",
      "Números pares: (2, 4, 6, 8, 10)\n"
     ]
    }
   ],
   "source": [
    "# Escribe tu solución aquí\n",
    "numeros = (1, 2, 3, 4, 5, 6, 7, 8, 9, 10)\n",
    "\n",
    "pares = builtins.tuple(n for n in numeros if n % 2 == 0)\n",
    "\n",
    "print(\"Tupla original:\", numeros)\n",
    "print(\"Números pares:\", pares)\n"
   ]
  },
  {
   "cell_type": "markdown",
   "id": "e062a7b7",
   "metadata": {},
   "source": [
    "### Ejercicio 16\n",
    "Crear una tupla con los meses del año y mostrar aquellos que tienen más de cinco letras"
   ]
  },
  {
   "cell_type": "code",
   "execution_count": 26,
   "id": "e58a5aeb",
   "metadata": {},
   "outputs": [
    {
     "name": "stdout",
     "output_type": "stream",
     "text": [
      "Tupla original: ('enero', 'febrero', 'marzo', 'abril', 'mayo', 'junio', 'julio', 'agosto', 'septiembre', 'octubre', 'noviembre', 'diciembre')\n",
      "Meses con más de cinco letras: ('febrero', 'agosto', 'septiembre', 'octubre', 'noviembre', 'diciembre')\n"
     ]
    }
   ],
   "source": [
    "# Escribe tu solución aquí\n",
    "meses = (\"enero\", \"febrero\", \"marzo\", \"abril\", \"mayo\", \"junio\", \n",
    "         \"julio\", \"agosto\", \"septiembre\", \"octubre\", \"noviembre\", \"diciembre\")\n",
    "\n",
    "meses_largos = builtins.tuple(m for m in meses if len(m) > 5)\n",
    "\n",
    "print(\"Tupla original:\", meses)\n",
    "print(\"Meses con más de cinco letras:\", meses_largos)\n"
   ]
  },
  {
   "cell_type": "markdown",
   "id": "c7e09ce7",
   "metadata": {},
   "source": [
    "### Ejercicio 17\n",
    "Crear una tupla con las edades de varias personas y mostrar la cantidad de personas mayores de 18 años"
   ]
  },
  {
   "cell_type": "code",
   "execution_count": 27,
   "id": "d07c0fd7",
   "metadata": {},
   "outputs": [
    {
     "name": "stdout",
     "output_type": "stream",
     "text": [
      "Tupla de edades: (15, 22, 17, 30, 18, 25, 12, 40)\n",
      "Cantidad de personas mayores de 18 años: 4\n"
     ]
    }
   ],
   "source": [
    "# Escribe tu solución aquí\n",
    "edades = (15, 22, 17, 30, 18, 25, 12, 40)\n",
    "\n",
    "mayores_18 = sum(1 for edad in edades if edad > 18)\n",
    "\n",
    "print(\"Tupla de edades:\", edades)\n",
    "print(\"Cantidad de personas mayores de 18 años:\", mayores_18)\n"
   ]
  },
  {
   "cell_type": "markdown",
   "id": "e499c0fc",
   "metadata": {},
   "source": [
    "### Ejercicio 18\n",
    "Crear una tupla de tuplas que contienen información de libros y mostrar el título del tercer libro"
   ]
  },
  {
   "cell_type": "code",
   "execution_count": 28,
   "id": "bdb7376a",
   "metadata": {},
   "outputs": [
    {
     "name": "stdout",
     "output_type": "stream",
     "text": [
      "El título del tercer libro es: La sombra del viento\n"
     ]
    }
   ],
   "source": [
    "# Escribe tu solución aquí\n",
    "libros = (\n",
    "    (\"Cien años de soledad\", \"Gabriel García Márquez\", 1967),\n",
    "    (\"Don Quijote de la Mancha\", \"Miguel de Cervantes\", 1605),\n",
    "    (\"La sombra del viento\", \"Carlos Ruiz Zafón\", 2001),\n",
    "    (\"El amor en los tiempos del cólera\", \"Gabriel García Márquez\", 1985)\n",
    ")\n",
    "\n",
    "print(\"El título del tercer libro es:\", libros[2][0])\n"
   ]
  }
 ],
 "metadata": {
  "kernelspec": {
   "display_name": "base",
   "language": "python",
   "name": "python3"
  },
  "language_info": {
   "codemirror_mode": {
    "name": "ipython",
    "version": 3
   },
   "file_extension": ".py",
   "mimetype": "text/x-python",
   "name": "python",
   "nbconvert_exporter": "python",
   "pygments_lexer": "ipython3",
   "version": "3.13.5"
  }
 },
 "nbformat": 4,
 "nbformat_minor": 5
}
