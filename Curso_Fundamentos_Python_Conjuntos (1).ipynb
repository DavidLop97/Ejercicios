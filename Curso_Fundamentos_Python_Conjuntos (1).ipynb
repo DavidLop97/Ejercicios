{
 "cells": [
  {
   "cell_type": "markdown",
   "id": "e34db480",
   "metadata": {},
   "source": [
    "# CURSO DE FUNDAMENTOS DE PYTHON\n",
    "## EJERCICIOS DE CONJUNTOS"
   ]
  },
  {
   "cell_type": "markdown",
   "id": "dc8f3c47",
   "metadata": {},
   "source": [
    "### Ejercicio 1\n",
    "Crear un conjunto con los números del 1 al 10 e imprimirlo en pantalla."
   ]
  },
  {
   "cell_type": "code",
   "execution_count": 1,
   "id": "00e43c48",
   "metadata": {},
   "outputs": [
    {
     "data": {
      "text/plain": [
       "{1, 2, 3, 4, 5, 6, 7, 8, 9, 10}"
      ]
     },
     "execution_count": 1,
     "metadata": {},
     "output_type": "execute_result"
    }
   ],
   "source": [
    "# Escribe tu solución aquí\n",
    "conjunto = {1,2,3,4,5,6,7,8,9,10}\n",
    "conjunto"
   ]
  },
  {
   "cell_type": "markdown",
   "id": "529c367c",
   "metadata": {},
   "source": [
    "### Ejercicio 2\n",
    "Crear dos conjuntos, uno con los números pares del 1 al 10 y otro con los impares del 1 al 10. Luego, imprimir los conjuntos y la intersección entre ellos."
   ]
  },
  {
   "cell_type": "code",
   "execution_count": 5,
   "id": "1d4dfc6e",
   "metadata": {},
   "outputs": [
    {
     "name": "stdout",
     "output_type": "stream",
     "text": [
      "Conjunto 1: {2, 4, 6, 8, 10}\n",
      "Conjunto 2: {1, 3, 5, 7, 9}\n",
      "Unión de los conjuntos: {1, 2, 3, 4, 5, 6, 7, 8, 9, 10}\n"
     ]
    }
   ],
   "source": [
    "# Escribe tu solución aquí\n",
    "conjunto1 = {2,4,6,8,10}\n",
    "conjunto2 = {1,3,5,7,9}\n",
    " \n",
    "union_conjuntos = conjunto1 | conjunto2\n",
    "interseccion_conjuntos = conjunto1 & conjunto2 \n",
    "print(\"Conjunto 1:\", conjunto1)\n",
    "print(\"Conjunto 2:\", conjunto2)\n",
    "print(\"Unión de los conjuntos:\", union_conjuntos)\n"
   ]
  },
  {
   "cell_type": "markdown",
   "id": "c9ff0b79",
   "metadata": {},
   "source": [
    "### Ejercicio 3\n",
    "Crear un conjunto con los elementos 'manzana', 'banana' y 'naranja'. Luego, pedirle al usuario que ingrese un elemento y determinar si ese elemento se encuentra en el conjunto o no."
   ]
  },
  {
   "cell_type": "code",
   "execution_count": 6,
   "id": "80ec33af",
   "metadata": {},
   "outputs": [
    {
     "name": "stdout",
     "output_type": "stream",
     "text": [
      "banana sí está en el conjunto.\n"
     ]
    }
   ],
   "source": [
    "# Escribe tu solución aquí\n",
    "frutas = {'manzana', 'banana', 'naranja'}\n",
    "\n",
    "elemento = input(\"Ingresa una fruta: \")\n",
    "\n",
    "if elemento in frutas:\n",
    "    print(f\"{elemento} sí está en el conjunto.\")\n",
    "else:\n",
    "    print(f\"{elemento} no está en el conjunto.\")\n"
   ]
  },
  {
   "cell_type": "markdown",
   "id": "7545cdae",
   "metadata": {},
   "source": [
    "### Ejercicio 4\n",
    "Crear un conjunto con los números del 1 al 5 y otro con los números del 4 al 8. Luego, unir los conjuntos y eliminar los elementos repetidos. Finalmente, imprimir el conjunto resultante."
   ]
  },
  {
   "cell_type": "code",
   "execution_count": 7,
   "id": "ecc7296a",
   "metadata": {},
   "outputs": [
    {
     "name": "stdout",
     "output_type": "stream",
     "text": [
      "{1, 2, 3, 4, 5, 6, 7, 8}\n"
     ]
    }
   ],
   "source": [
    "# Escribe tu solución aquí\n",
    "conjunto1 = {1, 2, 3, 4, 5}\n",
    "conjunto2 = {4, 5, 6, 7, 8}\n",
    "\n",
    "resultado = conjunto1.union(conjunto2)\n",
    "\n",
    "print(resultado)\n"
   ]
  },
  {
   "cell_type": "markdown",
   "id": "5d429254",
   "metadata": {},
   "source": [
    "### Ejercicio 5\n",
    "Crear un conjunto con los elementos 'leche', 'pan', 'huevos' y 'azúcar'. Luego, eliminar el elemento 'azúcar' del conjunto y agregar el elemento 'harina'. Finalmente, imprimir el conjunto resultante."
   ]
  },
  {
   "cell_type": "code",
   "execution_count": 10,
   "id": "234690d4",
   "metadata": {},
   "outputs": [
    {
     "name": "stdout",
     "output_type": "stream",
     "text": [
      "{'pan', 'huevos', 'harina', 'leche'}\n"
     ]
    }
   ],
   "source": [
    "# Escribe tu solución aquí\n",
    "compras = {'leche', 'pan', 'huevos', 'azúcar'}\n",
    "compras.remove('azúcar')\n",
    "compras.add('harina')\n",
    "\n",
    "print(compras)\n"
   ]
  },
  {
   "cell_type": "markdown",
   "id": "bd91310a",
   "metadata": {},
   "source": [
    "### Ejercicio 6\n",
    "Crear un conjunto con los nombres 'Juan', 'María', 'Pedro' y 'Luisa'. Luego, imprimir el número de elementos del conjunto."
   ]
  },
  {
   "cell_type": "code",
   "execution_count": 11,
   "id": "06a8bc38",
   "metadata": {},
   "outputs": [
    {
     "name": "stdout",
     "output_type": "stream",
     "text": [
      "4\n"
     ]
    }
   ],
   "source": [
    "# Escribe tu solución aquí\n",
    "nombres = {'Juan', 'María', 'Pedro', 'Luisa'}\n",
    "print(len(nombres))\n"
   ]
  },
  {
   "cell_type": "markdown",
   "id": "ed349212",
   "metadata": {},
   "source": [
    "### Ejercicio 7\n",
    "Crear dos conjuntos, uno con los números del 1 al 5 y otro con los números del 4 al 8. Luego, imprimir los conjuntos y la diferencia simétrica entre ellos."
   ]
  },
  {
   "cell_type": "code",
   "execution_count": 12,
   "id": "937c8425",
   "metadata": {},
   "outputs": [
    {
     "name": "stdout",
     "output_type": "stream",
     "text": [
      "Conjunto 1: {1, 2, 3, 4, 5}\n",
      "Conjunto 2: {4, 5, 6, 7, 8}\n",
      "Diferencia simétrica: {1, 2, 3, 6, 7, 8}\n"
     ]
    }
   ],
   "source": [
    "# Escribe tu solución aquí\n",
    "conjunto1 = {1, 2, 3, 4, 5}\n",
    "conjunto2 = {4, 5, 6, 7, 8}\n",
    "\n",
    "print(\"Conjunto 1:\", conjunto1)\n",
    "print(\"Conjunto 2:\", conjunto2)\n",
    "\n",
    "diferencia_simetrica = conjunto1.symmetric_difference(conjunto2)\n",
    "\n",
    "print(\"Diferencia simétrica:\", diferencia_simetrica)\n"
   ]
  },
  {
   "cell_type": "markdown",
   "id": "0f51fba6",
   "metadata": {},
   "source": [
    "### Ejercicio 8\n",
    "Crear un conjunto con los números del 1 al 10 y otro con los números del 5 al 15. Luego, imprimir los conjuntos y la unión entre ellos."
   ]
  },
  {
   "cell_type": "code",
   "execution_count": 13,
   "id": "8dae4f93",
   "metadata": {},
   "outputs": [
    {
     "name": "stdout",
     "output_type": "stream",
     "text": [
      "Conjunto 1: {1, 2, 3, 4, 5, 6, 7, 8, 9, 10}\n",
      "Conjunto 2: {5, 6, 7, 8, 9, 10, 11, 12, 13, 14, 15}\n",
      "Unión: {1, 2, 3, 4, 5, 6, 7, 8, 9, 10, 11, 12, 13, 14, 15}\n"
     ]
    }
   ],
   "source": [
    "# Escribe tu solución aquí\n",
    "conjunto1 = set(range(1, 11))  \n",
    "conjunto2 = set(range(5, 16))   \n",
    "\n",
    "print(\"Conjunto 1:\", conjunto1)\n",
    "print(\"Conjunto 2:\", conjunto2)\n",
    "\n",
    "union = conjunto1.union(conjunto2)\n",
    "\n",
    "print(\"Unión:\", union)\n"
   ]
  },
  {
   "cell_type": "markdown",
   "id": "254ab7d8",
   "metadata": {},
   "source": [
    "### Ejercicio 9\n",
    "Crear un conjunto con los elementos 'manzana', 'banana', 'naranja' y 'pera'. Luego, imprimir los elementos del conjunto en orden alfabético."
   ]
  },
  {
   "cell_type": "code",
   "execution_count": 14,
   "id": "fdafdce4",
   "metadata": {},
   "outputs": [
    {
     "name": "stdout",
     "output_type": "stream",
     "text": [
      "Frutas en orden alfabético:\n",
      "banana\n",
      "manzana\n",
      "naranja\n",
      "pera\n"
     ]
    }
   ],
   "source": [
    "# Escribe tu solución aquí\n",
    "frutas = {\"manzana\", \"banana\", \"naranja\", \"pera\"}\n",
    "print(\"Frutas en orden alfabético:\")\n",
    "for fruta in sorted(frutas):\n",
    "    print(fruta)\n"
   ]
  },
  {
   "cell_type": "markdown",
   "id": "db50ac1c",
   "metadata": {},
   "source": [
    "### Ejercicio 10\n",
    "Crear un conjunto con los números del 1 al 10 y otro con los números del 6 al 15. Luego, imprimir los conjuntos y la intersección entre ellos."
   ]
  },
  {
   "cell_type": "code",
   "execution_count": 15,
   "id": "347edd2b",
   "metadata": {},
   "outputs": [
    {
     "name": "stdout",
     "output_type": "stream",
     "text": [
      "Conjunto 1: {1, 2, 3, 4, 5, 6, 7, 8, 9, 10}\n",
      "Conjunto 2: {6, 7, 8, 9, 10, 11, 12, 13, 14, 15}\n",
      "Intersección: {6, 7, 8, 9, 10}\n"
     ]
    }
   ],
   "source": [
    "# Escribe tu solución aquí\n",
    "conjunto1 = set(range(1, 11))   # Números del 1 al 10\n",
    "conjunto2 = set(range(6, 16))   # Números del 6 al 15\n",
    "\n",
    "print(\"Conjunto 1:\", conjunto1)\n",
    "print(\"Conjunto 2:\", conjunto2)\n",
    "\n",
    "interseccion = conjunto1 & conjunto2\n",
    "print(\"Intersección:\", interseccion)\n"
   ]
  }
 ],
 "metadata": {
  "kernelspec": {
   "display_name": "base",
   "language": "python",
   "name": "python3"
  },
  "language_info": {
   "codemirror_mode": {
    "name": "ipython",
    "version": 3
   },
   "file_extension": ".py",
   "mimetype": "text/x-python",
   "name": "python",
   "nbconvert_exporter": "python",
   "pygments_lexer": "ipython3",
   "version": "3.13.5"
  }
 },
 "nbformat": 4,
 "nbformat_minor": 5
}
