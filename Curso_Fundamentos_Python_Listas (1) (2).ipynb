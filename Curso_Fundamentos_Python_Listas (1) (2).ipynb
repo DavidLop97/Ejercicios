{
 "cells": [
  {
   "cell_type": "markdown",
   "id": "9c8a3592",
   "metadata": {},
   "source": [
    "# 📘 Curso de Fundamentos de Python\n",
    "## Ejercicios sobre Listas"
   ]
  },
  {
   "cell_type": "markdown",
   "id": "2adb2e11",
   "metadata": {},
   "source": [
    "### Ejercicio 1\n",
    "Crear una lista de números del 1 al 5"
   ]
  },
  {
   "cell_type": "code",
   "execution_count": 21,
   "id": "925ba314",
   "metadata": {},
   "outputs": [
    {
     "data": {
      "text/plain": [
       "[1, 2, 3, 4, 5]"
      ]
     },
     "execution_count": 21,
     "metadata": {},
     "output_type": "execute_result"
    }
   ],
   "source": [
    "# Escribe tu solución aquí\n",
    "lista=[1,2,3,4,5]\n",
    "lista"
   ]
  },
  {
   "cell_type": "markdown",
   "id": "362808e1",
   "metadata": {},
   "source": [
    "### Ejercicio 2\n",
    "Accede al elemento 3 de la lista"
   ]
  },
  {
   "cell_type": "code",
   "execution_count": 4,
   "id": "2319a142",
   "metadata": {},
   "outputs": [
    {
     "name": "stdout",
     "output_type": "stream",
     "text": [
      "3\n"
     ]
    }
   ],
   "source": [
    "# Escribe tu solución aquí\n",
    "print(lista[2])\n"
   ]
  },
  {
   "cell_type": "markdown",
   "id": "313eacda",
   "metadata": {},
   "source": [
    "### Ejercicio 3\n",
    "Modifica un elemento de la lista"
   ]
  },
  {
   "cell_type": "code",
   "execution_count": 8,
   "id": "0cfebfd2",
   "metadata": {},
   "outputs": [
    {
     "data": {
      "text/plain": [
       "[1, 2, 3, 4, 'hola']"
      ]
     },
     "execution_count": 8,
     "metadata": {},
     "output_type": "execute_result"
    }
   ],
   "source": [
    "# Escribe tu solución aquí\n",
    "lista[4]='hola'\n",
    "lista"
   ]
  },
  {
   "cell_type": "markdown",
   "id": "be603b72",
   "metadata": {},
   "source": [
    "### Ejercicio 4\n",
    "Agrega el elemento 9 al final de la lista"
   ]
  },
  {
   "cell_type": "code",
   "execution_count": 9,
   "id": "cb51d97c",
   "metadata": {},
   "outputs": [
    {
     "data": {
      "text/plain": [
       "[1, 2, 3, 4, 'hola', 9]"
      ]
     },
     "execution_count": 9,
     "metadata": {},
     "output_type": "execute_result"
    }
   ],
   "source": [
    "# Escribe tu solución aquí\n",
    "lista.append(9)\n",
    "lista"
   ]
  },
  {
   "cell_type": "markdown",
   "id": "bb807351",
   "metadata": {},
   "source": [
    "### Ejercicio 5\n",
    "Eliminar el elemento 2 de la lista"
   ]
  },
  {
   "cell_type": "code",
   "execution_count": 11,
   "id": "1ac1124c",
   "metadata": {},
   "outputs": [
    {
     "data": {
      "text/plain": [
       "[1, 3, 4, 'hola', 9]"
      ]
     },
     "execution_count": 11,
     "metadata": {},
     "output_type": "execute_result"
    }
   ],
   "source": [
    "# Escribe tu solución aquí\n",
    "lista.remove(2)\n",
    "lista"
   ]
  },
  {
   "cell_type": "markdown",
   "id": "13f8eabe",
   "metadata": {},
   "source": [
    "### Ejercicio 6\n",
    "Recorrer una lista con un bucle for"
   ]
  },
  {
   "cell_type": "code",
   "execution_count": 12,
   "id": "3b159a5b",
   "metadata": {},
   "outputs": [
    {
     "name": "stdout",
     "output_type": "stream",
     "text": [
      "1\n",
      "3\n",
      "4\n",
      "hola\n",
      "9\n"
     ]
    }
   ],
   "source": [
    "# Escribe tu solución aquí\n",
    "for elemento in lista:\n",
    "    print(elemento)\n"
   ]
  },
  {
   "cell_type": "markdown",
   "id": "ddb853a4",
   "metadata": {},
   "source": [
    "### Ejercicio 7\n",
    "Ordenar una lista"
   ]
  },
  {
   "cell_type": "code",
   "execution_count": 20,
   "id": "e7577824",
   "metadata": {},
   "outputs": [
    {
     "data": {
      "text/plain": [
       "[1, 3, 4, 'hola', 9]"
      ]
     },
     "execution_count": 20,
     "metadata": {},
     "output_type": "execute_result"
    }
   ],
   "source": [
    "# Escribe tu solución aquí\n",
    "lista.sort\n",
    "lista"
   ]
  },
  {
   "cell_type": "markdown",
   "id": "d4b00f9b",
   "metadata": {},
   "source": [
    "### Ejercicio 8\n",
    "Obtener la longitud de una lista"
   ]
  },
  {
   "cell_type": "code",
   "execution_count": 14,
   "id": "edbccdd2",
   "metadata": {},
   "outputs": [
    {
     "name": "stdout",
     "output_type": "stream",
     "text": [
      "La longitud de la lista es: 5\n"
     ]
    }
   ],
   "source": [
    "# Escribe tu solución aquí\n",
    "length = len(lista)\n",
    "print(\"La longitud de la lista es:\", length)"
   ]
  },
  {
   "cell_type": "markdown",
   "id": "23f06feb",
   "metadata": {},
   "source": [
    "### Ejercicio 9\n",
    "Comprobar si un elemento está en la lista"
   ]
  },
  {
   "cell_type": "code",
   "execution_count": 16,
   "id": "5871d43e",
   "metadata": {},
   "outputs": [
    {
     "data": {
      "text/plain": [
       "True"
      ]
     },
     "execution_count": 16,
     "metadata": {},
     "output_type": "execute_result"
    }
   ],
   "source": [
    "# Escribe tu solución aquí\n",
    "3 in lista\n"
   ]
  },
  {
   "cell_type": "markdown",
   "id": "14480faf",
   "metadata": {},
   "source": [
    "### Ejercicio 10\n",
    "Presentar el número mínimo"
   ]
  },
  {
   "cell_type": "code",
   "execution_count": 22,
   "id": "6aa17ac0",
   "metadata": {},
   "outputs": [
    {
     "name": "stdout",
     "output_type": "stream",
     "text": [
      "1\n"
     ]
    }
   ],
   "source": [
    "# Escribe tu solución aquí\n",
    "minimo = min(lista)\n",
    "print(minimo)"
   ]
  },
  {
   "cell_type": "markdown",
   "id": "cbf4eed9",
   "metadata": {},
   "source": [
    "### Ejercicio 11\n",
    "Presentar el número máximo"
   ]
  },
  {
   "cell_type": "code",
   "execution_count": null,
   "id": "77ded549",
   "metadata": {},
   "outputs": [
    {
     "name": "stdout",
     "output_type": "stream",
     "text": [
      "[1, 2, 3, 4, 5]\n"
     ]
    }
   ],
   "source": [
    "# Escribe tu solución aquí\n",
    "maximo = max(lista)\n",
    "print(maximo)\n"
   ]
  },
  {
   "cell_type": "markdown",
   "id": "566ba5e2",
   "metadata": {},
   "source": [
    "# CURSO DE FUNDAMENTOS DE PYTHON\n",
    "## EJERCICIOS DE LISTAS A RESOLVER"
   ]
  },
  {
   "cell_type": "markdown",
   "id": "cdad9829",
   "metadata": {},
   "source": [
    "### Ejercicio Extra 1\n",
    "Crea una lista vacía llamada `numeros` e introduce los números del 1 al 5. Luego, muestra la lista por pantalla."
   ]
  },
  {
   "cell_type": "code",
   "execution_count": 25,
   "id": "b0f1e0fe",
   "metadata": {},
   "outputs": [
    {
     "name": "stdout",
     "output_type": "stream",
     "text": [
      "[1, 2, 3, 4, 5]\n"
     ]
    }
   ],
   "source": [
    "# Escribe tu solución aquí\n",
    "numeros = []\n",
    "\n",
    "numeros.append(1)\n",
    "numeros.append(2)\n",
    "numeros.append(3)\n",
    "numeros.append(4)\n",
    "numeros.append(5)\n",
    "\n",
    "print(numeros)\n"
   ]
  },
  {
   "cell_type": "markdown",
   "id": "7fca3a9d",
   "metadata": {},
   "source": [
    "### Ejercicio Extra 2\n",
    "Crea una lista con los nombres de tus amigos y muestra por pantalla el primer elemento de la lista."
   ]
  },
  {
   "cell_type": "code",
   "execution_count": 28,
   "id": "c4d5d90c",
   "metadata": {},
   "outputs": [
    {
     "data": {
      "text/plain": [
       "'gilson'"
      ]
     },
     "execution_count": 28,
     "metadata": {},
     "output_type": "execute_result"
    }
   ],
   "source": [
    "# Escribe tu solución aquí\n",
    "lista = ['gilson','david','carmen','anthony','andrea']\n",
    "lista[0]\n"
   ]
  },
  {
   "cell_type": "markdown",
   "id": "56ee8c20",
   "metadata": {},
   "source": [
    "### Ejercicio Extra 3\n",
    "Crea una lista con los números del 1 al 10 y muestra por pantalla los números pares."
   ]
  },
  {
   "cell_type": "code",
   "execution_count": 29,
   "id": "30867884",
   "metadata": {},
   "outputs": [
    {
     "name": "stdout",
     "output_type": "stream",
     "text": [
      "2\n",
      "4\n",
      "6\n",
      "8\n",
      "10\n"
     ]
    }
   ],
   "source": [
    "# Escribe tu solución aquí\n",
    "numeros = list(range(1, 11))\n",
    "\n",
    "for num in numeros:\n",
    "    if num % 2 == 0:\n",
    "        print(num)\n",
    "\n"
   ]
  },
  {
   "cell_type": "markdown",
   "id": "fdc7b42b",
   "metadata": {},
   "source": [
    "### Ejercicio Extra 4\n",
    "Crea una lista con los nombres de tus amigos y muestra por pantalla el último elemento de la lista."
   ]
  },
  {
   "cell_type": "code",
   "execution_count": 30,
   "id": "50c378a5",
   "metadata": {},
   "outputs": [
    {
     "name": "stdout",
     "output_type": "stream",
     "text": [
      "andrea\n"
     ]
    }
   ],
   "source": [
    "# Escribe tu solución aquí\n",
    "lista = ['gilson','david','carmen','anthony','andrea']\n",
    "\n",
    "print(lista[-1])\n"
   ]
  },
  {
   "cell_type": "markdown",
   "id": "84a05781",
   "metadata": {},
   "source": [
    "### Ejercicio Extra 5\n",
    "Crea una lista con los números del 1 al 10 y muestra por pantalla el último elemento de la lista."
   ]
  },
  {
   "cell_type": "code",
   "execution_count": 31,
   "id": "a391bd9c",
   "metadata": {},
   "outputs": [
    {
     "name": "stdout",
     "output_type": "stream",
     "text": [
      "10\n"
     ]
    }
   ],
   "source": [
    "# Escribe tu solución aquí# Crear lista del 1 al 10\n",
    "numeros = list(range(1, 11))\n",
    "\n",
    "print(numeros[-1])\n",
    "\n"
   ]
  },
  {
   "cell_type": "markdown",
   "id": "7d17266f",
   "metadata": {},
   "source": [
    "### Ejercicio Extra 6\n",
    "Crea una lista con los números del 1 al 10 y muestra por pantalla los números impares."
   ]
  },
  {
   "cell_type": "code",
   "execution_count": 32,
   "id": "ea852e2c",
   "metadata": {},
   "outputs": [
    {
     "name": "stdout",
     "output_type": "stream",
     "text": [
      "1\n",
      "3\n",
      "5\n",
      "7\n",
      "9\n"
     ]
    }
   ],
   "source": [
    "# Escribe tu solución aquí\n",
    "numeros = list(range(1, 11))\n",
    "for num in numeros:\n",
    "    if num % 2 != 0:\n",
    "        print(num)\n"
   ]
  },
  {
   "cell_type": "markdown",
   "id": "6f01fe16",
   "metadata": {},
   "source": [
    "### Ejercicio Extra 7\n",
    "Crea una lista con los nombres de tus amigos y añade un nuevo amigo a la lista. Luego, muestra la lista por pantalla."
   ]
  },
  {
   "cell_type": "code",
   "execution_count": 33,
   "id": "bb8a403a",
   "metadata": {},
   "outputs": [
    {
     "name": "stdout",
     "output_type": "stream",
     "text": [
      "['gilson', 'david', 'carmen', 'anthony', 'andrea', 'maría']\n"
     ]
    }
   ],
   "source": [
    "# Escribe tu solución aquí\n",
    "amigos = ['gilson', 'david', 'carmen', 'anthony', 'andrea']\n",
    "\n",
    "amigos.append('maría')\n",
    "\n",
    "print(amigos)\n"
   ]
  },
  {
   "cell_type": "markdown",
   "id": "56526675",
   "metadata": {},
   "source": [
    "### Ejercicio Extra 8\n",
    "Crea una lista con los números del 1 al 10 y muestra por pantalla el primer y el último elemento de la lista."
   ]
  },
  {
   "cell_type": "code",
   "execution_count": 34,
   "id": "e7c8e0ee",
   "metadata": {},
   "outputs": [
    {
     "name": "stdout",
     "output_type": "stream",
     "text": [
      "Primer elemento: 1\n",
      "Último elemento: 10\n"
     ]
    }
   ],
   "source": [
    "# Escribe tu solución aquí\n",
    "numeros = list(range(1, 11))\n",
    "\n",
    "print(\"Primer elemento:\", numeros[0])\n",
    "print(\"Último elemento:\", numeros[-1])\n"
   ]
  },
  {
   "cell_type": "markdown",
   "id": "a47f4771",
   "metadata": {},
   "source": [
    "### Ejercicio Extra 9\n",
    "Crea una lista con los nombres de tus amigos y muestra por pantalla el número de elementos de la lista."
   ]
  },
  {
   "cell_type": "code",
   "execution_count": 35,
   "id": "00020575",
   "metadata": {},
   "outputs": [
    {
     "name": "stdout",
     "output_type": "stream",
     "text": [
      "5\n"
     ]
    }
   ],
   "source": [
    "# Escribe tu solución aquí\n",
    "amigos = ['gilson', 'david', 'carmen', 'anthony', 'andrea']\n",
    "print(len(amigos))\n"
   ]
  },
  {
   "cell_type": "markdown",
   "id": "3ae75989",
   "metadata": {},
   "source": [
    "### Ejercicio Extra 10\n",
    "Crea una lista con los números del 1 al 10 y muestra por pantalla la suma de todos los elementos de la lista."
   ]
  },
  {
   "cell_type": "code",
   "execution_count": 36,
   "id": "7cf0c8e0",
   "metadata": {},
   "outputs": [
    {
     "name": "stdout",
     "output_type": "stream",
     "text": [
      "55\n"
     ]
    }
   ],
   "source": [
    "# Escribe tu solución aquí\n",
    "numeros = list(range(1, 11))\n",
    "print(sum(numeros))\n"
   ]
  }
 ],
 "metadata": {
  "kernelspec": {
   "display_name": "base",
   "language": "python",
   "name": "python3"
  },
  "language_info": {
   "codemirror_mode": {
    "name": "ipython",
    "version": 3
   },
   "file_extension": ".py",
   "mimetype": "text/x-python",
   "name": "python",
   "nbconvert_exporter": "python",
   "pygments_lexer": "ipython3",
   "version": "3.13.5"
  }
 },
 "nbformat": 4,
 "nbformat_minor": 5
}
